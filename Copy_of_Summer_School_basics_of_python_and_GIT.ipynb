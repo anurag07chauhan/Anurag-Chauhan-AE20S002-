{
  "nbformat": 4,
  "nbformat_minor": 0,
  "metadata": {
    "colab": {
      "name": "Copy of Summer School basics of python and GIT",
      "provenance": [],
      "collapsed_sections": [],
      "include_colab_link": true
    },
    "kernelspec": {
      "name": "python3",
      "display_name": "Python 3"
    },
    "language_info": {
      "name": "python"
    }
  },
  "cells": [
    {
      "cell_type": "markdown",
      "metadata": {
        "id": "view-in-github",
        "colab_type": "text"
      },
      "source": [
        "<a href=\"https://colab.research.google.com/github/anurag07chauhan/Anurag-Chauhan-AE20S002-/blob/main/Copy_of_Summer_School_basics_of_python_and_GIT.ipynb\" target=\"_parent\"><img src=\"https://colab.research.google.com/assets/colab-badge.svg\" alt=\"Open In Colab\"/></a>"
      ]
    },
    {
      "cell_type": "markdown",
      "source": [
        "#print() \n",
        "\n",
        "The print() function prints the specified message to the screen."
      ],
      "metadata": {
        "id": "1FAJEA3VMcT6"
      }
    },
    {
      "cell_type": "code",
      "source": [
        "print(\"Hello world\")"
      ],
      "metadata": {
        "colab": {
          "base_uri": "https://localhost:8080/"
        },
        "id": "On6-iOynMmOk",
        "outputId": "bfe73b9b-c51f-4b08-9222-9fe70408e6d1"
      },
      "execution_count": null,
      "outputs": [
        {
          "output_type": "stream",
          "name": "stdout",
          "text": [
            "Hello world\n"
          ]
        }
      ]
    },
    {
      "cell_type": "code",
      "source": [
        "a = 9 \n",
        "b = 3\n",
        "print(\"square of\" ,b,\"is\",a)\n",
        "print(f\"square of {b} is {a}\") #These are called fstrings\n",
        "\n",
        "#Lines of code that are green(followed by #) are ignored by the interpreter.\n",
        "#These are called comments and they are used to improve the readablity of code\n"
      ],
      "metadata": {
        "colab": {
          "base_uri": "https://localhost:8080/"
        },
        "id": "yr1HHn8aMxdA",
        "outputId": "f427be02-cf08-413b-e44c-08633a32278f"
      },
      "execution_count": null,
      "outputs": [
        {
          "output_type": "stream",
          "name": "stdout",
          "text": [
            "square of 3 is 9\n",
            "square of 3 is 9\n"
          ]
        }
      ]
    },
    {
      "cell_type": "markdown",
      "source": [
        "#Data types"
      ],
      "metadata": {
        "id": "ZiDmSlR2P3Dv"
      }
    },
    {
      "cell_type": "code",
      "source": [
        "x = 10 \n",
        "name = \"Student\"\n",
        "is_it_raining = True\n",
        "\n",
        "print(x)\n",
        "print(name)\n",
        "print(is_it_raining)\n",
        "\n",
        "print(type(x))\n",
        "print(type(name))\n",
        "print(type(is_it_raining))"
      ],
      "metadata": {
        "colab": {
          "base_uri": "https://localhost:8080/"
        },
        "id": "NBj1NhtPP75e",
        "outputId": "6add5532-c69e-4046-b0d6-0e046c5d543b"
      },
      "execution_count": null,
      "outputs": [
        {
          "output_type": "stream",
          "name": "stdout",
          "text": [
            "10\n",
            "Student\n",
            "True\n",
            "<class 'int'>\n",
            "<class 'str'>\n",
            "<class 'bool'>\n"
          ]
        }
      ]
    },
    {
      "cell_type": "markdown",
      "source": [
        "As you can see Python automatically detects data type of the variable unlike the other programming languages."
      ],
      "metadata": {
        "id": "TofiGafKP_zs"
      }
    },
    {
      "cell_type": "markdown",
      "source": [
        "##Operators\n",
        "Operators perfom processes on variables and constants. The different kinds of operators can be understood through examples.\n",
        "\n",
        "###Arithmetic Operators\n",
        "\n",
        "\n",
        "1. Addition (+)\n",
        "2. Subtraction (-)\n",
        "3. Multiplication (*)\n",
        "4. Division (/)\n",
        "5. Modulus(%)\n",
        "6. Exponent(**)\n"
      ],
      "metadata": {
        "id": "2tYSX0TGUwXp"
      }
    },
    {
      "cell_type": "code",
      "source": [
        "a = 5\n",
        "b = 6\n",
        "\n",
        "# operations in order\n",
        "\n",
        "print('a + b = ', a + b)\n",
        "print('b - 2 = ', b - 2)\n",
        "print('a*4 =', a * 4)\n",
        "print('b/3 = ', b/3)\n",
        "print('a % b = ', a%b)\n",
        "print('a^2 = ', a**2 )"
      ],
      "metadata": {
        "id": "UZ1BTvDVc5CJ",
        "colab": {
          "base_uri": "https://localhost:8080/"
        },
        "outputId": "134c1859-5b60-4abe-b4ab-704d0b31d0fb"
      },
      "execution_count": null,
      "outputs": [
        {
          "output_type": "stream",
          "name": "stdout",
          "text": [
            "a + b =  11\n",
            "b - 2 =  4\n",
            "a*4 = 20\n",
            "b/3 =  2.0\n",
            "a % b =  5\n",
            "a^2 =  25\n"
          ]
        }
      ]
    },
    {
      "cell_type": "markdown",
      "source": [
        "###Comparison Operators\n",
        "\n",
        "\n",
        "1.    Check equality (== )\n",
        "2.    Check inequality(!= or <>)\n",
        "3.    Greater than (>)\n",
        "4.    Less than(<)\n",
        "5.    Greater than or equal to (>=)\n",
        "6.    Less than or equal to (<=)\n",
        "\n",
        "When used in expressions,  the truth value of the expression returned."
      ],
      "metadata": {
        "id": "7MsE5Hgpc7SJ"
      }
    },
    {
      "cell_type": "code",
      "source": [
        "a = 5\n",
        "b = 6\n",
        "\n",
        "#operations in order\n",
        "\n",
        "print(a==b)\n",
        "print(b!=2)\n",
        "print(a>4)\n",
        "print(b<3)\n",
        "print(a>=b)\n",
        "print(a<=2)\n",
        "print(type(a==b))"
      ],
      "metadata": {
        "id": "XDIJl6zKdCRA",
        "colab": {
          "base_uri": "https://localhost:8080/"
        },
        "outputId": "14d52771-7070-4973-fe65-51bc293c25d8"
      },
      "execution_count": null,
      "outputs": [
        {
          "output_type": "stream",
          "name": "stdout",
          "text": [
            "False\n",
            "True\n",
            "True\n",
            "False\n",
            "False\n",
            "False\n",
            "<class 'bool'>\n"
          ]
        }
      ]
    },
    {
      "cell_type": "markdown",
      "source": [
        "###Logical Operators\n",
        "\n",
        "\n",
        "\n",
        "1.  and\n",
        "2.  or\n",
        "3.  not\n",
        "\n",
        "When used in expressions, the truth value of the expression returned."
      ],
      "metadata": {
        "id": "nvIBcPDTdIwj"
      }
    },
    {
      "cell_type": "code",
      "source": [
        "a = 5\n",
        "b = 6\n",
        "print(a<b or a==b)\n",
        "print(a<b and (a+b)==11)\n",
        "print(not a<b)"
      ],
      "metadata": {
        "colab": {
          "base_uri": "https://localhost:8080/"
        },
        "id": "3O8nyD97dOh9",
        "outputId": "605c4ec7-c1fa-4e4e-ec6e-d7120d3b835c"
      },
      "execution_count": null,
      "outputs": [
        {
          "output_type": "stream",
          "name": "stdout",
          "text": [
            "True\n",
            "True\n",
            "False\n"
          ]
        }
      ]
    },
    {
      "cell_type": "markdown",
      "source": [
        "##Conditional Statements\n",
        "\n",
        "Conditional Statements are used in decision making."
      ],
      "metadata": {
        "id": "p1QtQ4I1hZQa"
      }
    },
    {
      "cell_type": "code",
      "source": [
        "Is_it_raining = False\n",
        "if(Is_it_raining):                                            #if(condition):\n",
        "  print(\"Oh no , I cant play football now\")                      #statement \n",
        "else:                                                         #elif(condition):\n",
        "  print(\"Lessgooo play football\")                                #statement\n",
        "                                                              #else:\n",
        "                                                                 #statement"
      ],
      "metadata": {
        "id": "zNqr08V-hltM",
        "colab": {
          "base_uri": "https://localhost:8080/"
        },
        "outputId": "20079198-c1d6-4999-bd9d-bf96a8c5760d"
      },
      "execution_count": null,
      "outputs": [
        {
          "output_type": "stream",
          "name": "stdout",
          "text": [
            "Lessgooo play football\n"
          ]
        }
      ]
    },
    {
      "cell_type": "code",
      "source": [
        "Summer = True\n",
        "Winter = True\n",
        "Rainy = False\n",
        "\n",
        "if(Summer):\n",
        "  print(\"Lets eat ice cream!\")\n",
        "elif(Winter):\n",
        "  print(\"Lets play with snow!\")\n",
        "elif(Rainy):\n",
        "  print(\"Lets drink Chai!\")\n",
        "else:\n",
        "  print(\"Lets just go and study:/\")"
      ],
      "metadata": {
        "colab": {
          "base_uri": "https://localhost:8080/"
        },
        "id": "98yCrrVGhs22",
        "outputId": "46a41e7f-9394-4cbd-d713-3312551926f4"
      },
      "execution_count": null,
      "outputs": [
        {
          "output_type": "stream",
          "name": "stdout",
          "text": [
            "Lets eat ice cream!\n"
          ]
        }
      ]
    },
    {
      "cell_type": "markdown",
      "source": [
        "##Loops\n",
        "\n",
        "Let's look at two programs with the same output:\n",
        "\n",
        "\n"
      ],
      "metadata": {
        "id": "HqFEZ3A8qlS2"
      }
    },
    {
      "cell_type": "code",
      "source": [
        "print('welcome to summer school')\n",
        "print('welcome to summer school')\n",
        "print('welcome to summer school')\n",
        "print('welcome to summer school')\n",
        "print('welcome to summer school')\n",
        "print('welcome to summer school')\n",
        "print('welcome to summer school')"
      ],
      "metadata": {
        "id": "Aw66KJVdwQC3",
        "colab": {
          "base_uri": "https://localhost:8080/"
        },
        "outputId": "60589748-4b6d-4abe-bd25-845b10646f71"
      },
      "execution_count": null,
      "outputs": [
        {
          "output_type": "stream",
          "name": "stdout",
          "text": [
            "welcome to summer school\n",
            "welcome to summer school\n",
            "welcome to summer school\n",
            "welcome to summer school\n",
            "welcome to summer school\n",
            "welcome to summer school\n",
            "welcome to summer school\n"
          ]
        }
      ]
    },
    {
      "cell_type": "code",
      "source": [
        "t = 0   \n",
        "while( t < 10):                          #while(condition):\n",
        "                                           #statement \n",
        "    print(\"welcome to summer school\" ,end = \"$\")\n",
        "    t = t + 1       #incrementing t"
      ],
      "metadata": {
        "id": "UGGEpbCVwQ2T",
        "colab": {
          "base_uri": "https://localhost:8080/"
        },
        "outputId": "3a9baad4-773d-4a55-9288-d6626a8a86c8"
      },
      "execution_count": null,
      "outputs": [
        {
          "output_type": "stream",
          "name": "stdout",
          "text": [
            "welcome to summer school$welcome to summer school$welcome to summer school$welcome to summer school$welcome to summer school$welcome to summer school$welcome to summer school$welcome to summer school$welcome to summer school$welcome to summer school$"
          ]
        }
      ]
    },
    {
      "cell_type": "markdown",
      "source": [
        "###FOR Loops\n",
        "The for loop has the following form\n"
      ],
      "metadata": {
        "id": "cIyR8b8uwfSF"
      }
    },
    {
      "cell_type": "code",
      "source": [
        "for i in range(5,0,-1): #(initial value , final value(excluded),increment)\n",
        "\tprint(i)"
      ],
      "metadata": {
        "colab": {
          "base_uri": "https://localhost:8080/"
        },
        "id": "cByqLFlfzNCK",
        "outputId": "868a4fe0-922a-4d8d-9313-479c893af738"
      },
      "execution_count": null,
      "outputs": [
        {
          "output_type": "stream",
          "name": "stdout",
          "text": [
            "5\n",
            "4\n",
            "3\n",
            "2\n",
            "1\n"
          ]
        }
      ]
    },
    {
      "cell_type": "markdown",
      "source": [
        "##Nested Loops\n",
        " Loops within loops"
      ],
      "metadata": {
        "id": "qXMKQf7j3WRO"
      }
    },
    {
      "cell_type": "code",
      "source": [
        "x = 4\n",
        "for i in range(1, x + 1):    #(1,5)\n",
        "  for j in range(1, i + 1):  \n",
        "    print(j, end = '')\n",
        "  print('')"
      ],
      "metadata": {
        "colab": {
          "base_uri": "https://localhost:8080/"
        },
        "id": "9FWaMDxy6yvr",
        "outputId": "6778a4dd-c81d-4e50-9299-cb4cab6214e5"
      },
      "execution_count": null,
      "outputs": [
        {
          "output_type": "stream",
          "name": "stdout",
          "text": [
            "1\n",
            "12\n",
            "123\n",
            "1234\n"
          ]
        }
      ]
    },
    {
      "cell_type": "markdown",
      "source": [
        "## Functions\n",
        "\n",
        "* Functions are modules of code that accomplish a specific task. \n",
        "* A function executes only when it is called.\n",
        "* Functions usually take inputs (data), process it, and output (or return) result. Once a function is written, it can be used over and over again."
      ],
      "metadata": {
        "id": "KsY0Mi17mS8u"
      }
    },
    {
      "cell_type": "code",
      "source": [
        "# example function\n",
        "def add_nums(a, b):\n",
        "  return a+b\n",
        "\n",
        "add_nums(2,3)\n",
        "print(add_nums(2,3)) #function call inside the print statement and even print is a function call"
      ],
      "metadata": {
        "colab": {
          "base_uri": "https://localhost:8080/"
        },
        "id": "GIYdmEiPycJU",
        "outputId": "d0f7bb5b-f6d8-4449-ca5d-6ad53841d031"
      },
      "execution_count": null,
      "outputs": [
        {
          "output_type": "stream",
          "name": "stdout",
          "text": [
            "5\n"
          ]
        }
      ]
    },
    {
      "cell_type": "markdown",
      "source": [
        "Here a and b are the parameters and the inputs that we provided (i.e 2,3) while calling the function are the arguments."
      ],
      "metadata": {
        "id": "yA5S2zJc8Zfl"
      }
    },
    {
      "cell_type": "markdown",
      "source": [
        "This is block of code is same as the one below"
      ],
      "metadata": {
        "id": "e2WyxsJ-BRge"
      }
    },
    {
      "cell_type": "code",
      "source": [
        "a = 2\n",
        "b = 3\n",
        "print(a + b)"
      ],
      "metadata": {
        "id": "61laRT8CBQc1"
      },
      "execution_count": null,
      "outputs": []
    },
    {
      "cell_type": "markdown",
      "source": [
        "Why do we need functions in the first place?\n",
        "Let's say you want to check if a number is even or odd "
      ],
      "metadata": {
        "id": "-0O3s3FQBEqI"
      }
    },
    {
      "cell_type": "code",
      "source": [
        "def odd_even(num):\n",
        "  if num % 2 == 0:\n",
        "    return 'Even'\n",
        "  else:\n",
        "    return 'Odd'"
      ],
      "metadata": {
        "id": "XlTKH-fhBDl1"
      },
      "execution_count": null,
      "outputs": []
    },
    {
      "cell_type": "code",
      "source": [
        "print(odd_even(4)) \n",
        "print(odd_even(6))\n",
        "print(odd_even(5))"
      ],
      "metadata": {
        "colab": {
          "base_uri": "https://localhost:8080/"
        },
        "id": "lUXNVVvb8jao",
        "outputId": "55df1a79-5c21-455f-f64b-988dfb9b00eb"
      },
      "execution_count": null,
      "outputs": [
        {
          "output_type": "stream",
          "name": "stdout",
          "text": [
            "Even\n",
            "Even\n",
            "Odd\n"
          ]
        }
      ]
    },
    {
      "cell_type": "markdown",
      "source": [
        "without functions:\n"
      ],
      "metadata": {
        "id": "iGXA7p8WD-xs"
      }
    },
    {
      "cell_type": "code",
      "source": [
        "num = 4\n",
        "if num % 2 == 0:\n",
        "    print('Even')\n",
        "else:\n",
        "    print('Odd')\n",
        "\n",
        "num = 6\n",
        "if num % 2 == 0:\n",
        "    print('Even')\n",
        "else:\n",
        "    print('Odd')\n",
        "\n",
        "num = 5\n",
        "if num % 2 == 0:\n",
        "    print('Even')\n",
        "else:\n",
        "    print('Odd')"
      ],
      "metadata": {
        "colab": {
          "base_uri": "https://localhost:8080/"
        },
        "id": "mjI0mkw4EDU2",
        "outputId": "0d34b867-5589-4e71-dce0-c4da89ee27f5"
      },
      "execution_count": null,
      "outputs": [
        {
          "output_type": "stream",
          "name": "stdout",
          "text": [
            "Even\n",
            "Even\n",
            "Odd\n"
          ]
        }
      ]
    },
    {
      "cell_type": "markdown",
      "source": [
        "## Classes\n",
        "\n",
        "A class is a blueprint for an object.\n",
        "\n",
        "It is a way to bundle data (even of different data types) together. \n",
        "Each variable or piece of data is known as an attribute of the class.\n",
        "\n",
        "In addition, a class can have functions associated with it called methods.\n",
        "\n",
        "An object is an instance of a class. This is similar to how the variable \"num\" was an integer in the previous example.\n"
      ],
      "metadata": {
        "id": "-P8c_GVTXoc9"
      }
    },
    {
      "cell_type": "code",
      "source": [
        "# example class\n",
        "\n",
        "class Pen:\n",
        "  Type = \"ball point\"\n",
        "  color = \"blue\"\n",
        "  price = \"100\"\n",
        "\n",
        "  # member function/ method\n",
        "  def writing(self):\n",
        "    print('write')\n",
        "          \n",
        "\n",
        "c1 = Pen()        # creating an instance of pen\n",
        "c1.writing()\n",
        "print(c1.Type)"
      ],
      "metadata": {
        "colab": {
          "base_uri": "https://localhost:8080/"
        },
        "id": "6fyx2vLoYN7O",
        "outputId": "dabf7af7-73fa-40f6-a716-7e59c7b696b1"
      },
      "execution_count": null,
      "outputs": [
        {
          "output_type": "stream",
          "name": "stdout",
          "text": [
            "write\n",
            "ball point\n"
          ]
        }
      ]
    },
    {
      "cell_type": "markdown",
      "source": [
        "### self\n",
        "* class methods must include an extra first parameter in the method definition \n",
        "\n",
        "* we don't give assign values for this parameter when we call the method, instead Python provides it\n",
        "\n",
        "* if we have a method that takes no arguments, then we still have to have one argument.\n",
        "\n",
        "* self is similar to this pointer in C++ and this reference in Java "
      ],
      "metadata": {
        "id": "DXiGAKsCZCig"
      }
    },
    {
      "cell_type": "markdown",
      "source": [
        "### \\_init_()\n",
        "\n",
        "* The \\__init__ method is similar to constructors in C++ and Java\n",
        "\n",
        "* constructors are used to initialize the object’s state\n",
        "\n",
        "* like other methods, a constructor also contains a collection of statements that are executed at the time of object creation\n"
      ],
      "metadata": {
        "id": "ZXq8e0stac-L"
      }
    },
    {
      "cell_type": "code",
      "source": [
        "class Vehicle:\n",
        "   \n",
        "    # class Variable\n",
        "    vehicle_type = 'car'            \n",
        "\n",
        "    # init method or constructor\n",
        "    def __init__(self, company1, color1):\n",
        "     \n",
        "        # instance variables \n",
        "\n",
        "        self.company = company1\n",
        "        self.color = color1    \n",
        "    \n",
        "    # method to display details\n",
        "    def printing(self):  \n",
        "        print('Vehicle type: ', self.vehicle_type)\n",
        "        print('company: ', self.company)\n",
        "        print('color: ', self.color)\n",
        "  \n",
        "\n",
        "\n",
        "C1 = Vehicle(\"Ferrari\", \"red\")\n",
        "C2 = Vehicle(\"Mercedes\", \"gold\")\n",
        " \n",
        "# displays details of C1 \n",
        "print('C1 details: ', end = '') \n",
        "C1.printing()\n",
        " \n",
        "# accessing using class names\n",
        "print(\"\\naccessing class variable using class name\")\n",
        "print(C1.color)\n",
        "print(C2.company)"
      ],
      "metadata": {
        "id": "lEcdPJOVaxwy"
      },
      "execution_count": null,
      "outputs": []
    },
    {
      "cell_type": "markdown",
      "source": [
        "##Inheritance\n",
        "\n",
        "Inheritance is the capability of one class to derive or inherit the properties from another class."
      ],
      "metadata": {
        "id": "3cL9o_Hab1uC"
      }
    },
    {
      "cell_type": "code",
      "source": [
        "class company:\n",
        "  def __init__(self):\n",
        "    self.ceo = \"mr X\"\n",
        "    self.company_name = \"ABC\"\n",
        "  \n",
        "  def show(self):\n",
        "    print(f\"Company : {self.company_name}\")\n",
        "    print(f\"Ceo : {self.ceo}\")\n",
        "\n",
        "class Salesemployee(company):\n",
        "   def __init__(self,name):  \n",
        "     company.__init__(self)\n",
        "     self.name = name\n",
        "     self.salary = \"20000\"\n",
        "\n",
        "   def printsalary(self):\n",
        "     print(f\"Salary:{self.salary}\")\n",
        "\n",
        "class Serviceemployee(company):\n",
        "   def __init__(self,name,branch_name):\n",
        "     company.__init__(self)\n",
        "     self.branch_name  = branch_name\n",
        "\n",
        "   def branch(self):\n",
        "\n",
        "     print(f\"Branch:{self.branch_name}\")\n",
        "\n",
        "emp1 = Salesemployee(\"mr A\")\n",
        "emp1.show()\n",
        "emp1.printsalary()   \n",
        "\n",
        "print(\"\\n\")\n",
        "\n",
        "emp2 = Serviceemployee(\"mr B\",\"Delhi\")\n",
        "emp2.show()\n",
        "emp2.branch()"
      ],
      "metadata": {
        "id": "y6_5HvqbcLdU"
      },
      "execution_count": null,
      "outputs": []
    }
  ]
}